{
    "metadata": {
        "kernelspec": {
            "name": ".net-powershell",
            "display_name": ".NET (PowerShell)",
            "language": "PowerShell"
        },
        "language_info": {
            "name": "PowerShell",
            "version": "7.0",
            "mimetype": "text/x-powershell",
            "file_extension": ".ps1",
            "pygments_lexer": "powershell"
        }
    },
    "nbformat_minor": 2,
    "nbformat": 4,
    "cells": [
        {
            "cell_type": "markdown",
            "source": [
                "# What You Can Learn from the Power BI Activity Log and REST APIs \n",
                "\n",
                "This set of PowerShell scripts is from a community presentation focused on the<span style=\"font-family:Calibri;font-size:11pt;\">Power BI Activity Log and the Power BI REST APIs. These scripts are focused on understanding the kind of data which is available for understanding usage patterns and activities in the Power BI Service, for the purpose of</span><span style=\"font-family:Calibri;font-size:11pt;\">Power BI governance, security, management, and adoption efforts.</span>The primary emphasis is awareness of the data which is available, more so than the exact PowerShell syntax.\n",
                "\n",
                "**Accompanying presentation materials**:[https://www.coatesdatastrategies.com/presentations/#What-You-Can-Learn-From-Power-BI-Activity-Log](https://www.coatesdatastrategies.com/presentations/#What-You-Can-Learn-From-Power-BI-Activity-Log)\n",
                "\n",
                "**Author**: Melissa Coates\n",
                "\n",
                "**Last updated**: Feb 2, 2021\n",
                "\n",
                "**Last tested with**: PowerShell 7.0.3 on Windows 10\n",
                "\n",
                "**Code status**: These scripts are considered demo snippets (not production-ready). The examples are realistic, but highly simplified.\n",
                "\n",
                "**Notes**:\n",
                "\n",
                "- This is a Jupyter notebook (formerly iPython notebook, hence the ipynb file extension).\n",
                "- If using the PowerShell extension for Azure Data Studio as shown in this presentation: it requires the PowerShell extension. It also requires use of .NET (PowerShell) kernel (aka .NET interactive) instead of regular PowerShell kernel in order to use PowerShell Core in the notebook cells. (This requirement was last verified Nov. 2020.) See [this video](https://www.youtube.com/watch?v=W-F0gO7dVOE) on .NET interactive notebooks for more details.\n",
                "- The Power BI Management module for PowerShell is required to be installed to run most of these scripts:  [https://www.powershellgallery.com/packages/MicrosoftPowerBIMgmt](https://www.powershellgallery.com/packages/MicrosoftPowerBIMgmt)\n",
                "- The Data Gateway module is required to be installed to run the last few scripts:  [https://www.powershellgallery.com/packages/DataGateway](https://www.powershellgallery.com/packages/DataGateway)\n",
                "- Additional information is available in the accompanying presentation materials."
            ],
            "metadata": {
                "azdata_cell_guid": "252eeaf8-2bd2-44a4-8e7e-31ceac86b0c7"
            }
        },
        {
            "cell_type": "markdown",
            "source": [
                "## **Demo Series #1: Power BI Management Module**"
            ],
            "metadata": {
                "azdata_cell_guid": "b5d759ef-5d23-44b5-af5f-6f73ce13b7e0"
            }
        },
        {
            "cell_type": "markdown",
            "source": [
                "## 1a. Check PowerShell version\n",
                "\n",
                "- The Power BI Management module is supported on Windows PowerShell or PowerShell Core.  \n",
                "- However, PowerShell Core (7.0+) is required for the Data Gateway module."
            ],
            "metadata": {
                "azdata_cell_guid": "34a16c67-23a8-4610-850e-845423d08ac7"
            }
        },
        {
            "cell_type": "code",
            "source": [
                "$PSVersionTable"
            ],
            "metadata": {
                "azdata_cell_guid": "ea211d46-1cbb-4fb7-b2f2-598e1a193231"
            },
            "outputs": [],
            "execution_count": null
        },
        {
            "cell_type": "markdown",
            "source": [
                "## 1b. Check Power BI Management module version(s)\n",
                "\n",
                "- This script checks which version(s) of the Power BI Management Module are installed & where."
            ],
            "metadata": {
                "azdata_cell_guid": "dca10acf-094e-4af6-af41-a0b98caca949"
            }
        },
        {
            "cell_type": "code",
            "source": [
                "Get-Module MicrosoftPowerBIMgmt* -ListAvailable | Sort-Object Version, Name "
            ],
            "metadata": {
                "azdata_cell_guid": "78db3a46-b4ab-497c-b69b-c3fc11265d78",
                "tags": []
            },
            "outputs": [],
            "execution_count": null
        },
        {
            "cell_type": "markdown",
            "source": [
                "## 1c. Check Power BI Management module commands\n",
                "\n",
                "- The first script lists cmdlets, sorted by name.\n",
                "- The second script retrieves just the Profile module commands. Note there are several aliases for Connect-PowerBIServiceAccount."
            ],
            "metadata": {
                "azdata_cell_guid": "5b8685f8-6521-4245-91ce-a224237493c1"
            }
        },
        {
            "cell_type": "code",
            "source": [
                "$Version = '1.0.896'\r\n",
                "Get-Command -Module MicrosoftPowerBIMgmt* -Version $Version | Sort-Object Name "
            ],
            "metadata": {
                "azdata_cell_guid": "f17965a6-2154-470a-a3ca-0ccd79969014"
            },
            "outputs": [],
            "execution_count": null
        },
        {
            "cell_type": "code",
            "source": [
                "$Version = '1.0.896'\r\n",
                "Get-Command -Module MicrosoftPowerBIMgmt* | Where-Object {$PSItem.Source -eq \"MicrosoftPowerBIMgmt.Profile\" -and $PSItem.Version -eq $Version} | Sort-Object Source, Name"
            ],
            "metadata": {
                "azdata_cell_guid": "1e38d2f6-f19a-490a-b1ed-94ac336ad20c",
                "tags": []
            },
            "outputs": [],
            "execution_count": null
        },
        {
            "cell_type": "markdown",
            "source": [
                "## 1d. Get help for a cmdlet\n",
                "\n",
                "- The first script displays the standard help information for the Get-PowerBIWorkspace cmdlet.\n",
                "- The second script displays example syntax."
            ],
            "metadata": {
                "azdata_cell_guid": "87859d51-1d1a-4db0-9730-739e69f726d7"
            }
        },
        {
            "cell_type": "code",
            "source": [
                "Get-Help Get-PowerBIWorkspace"
            ],
            "metadata": {
                "azdata_cell_guid": "545ae63c-2cd9-4cf8-a6fb-41fa392c0b40",
                "tags": []
            },
            "outputs": [],
            "execution_count": null
        },
        {
            "cell_type": "code",
            "source": [
                "Get-Help Get-PowerBIWorkspace -Examples"
            ],
            "metadata": {
                "azdata_cell_guid": "088e43a3-86a4-4e0c-a630-62817c4f99f3"
            },
            "outputs": [],
            "execution_count": null
        },
        {
            "cell_type": "markdown",
            "source": [
                "## <mark>1e. Authenticate to the Power BI Service</mark>\n",
                "\n",
                "- This script interactively prompts for the user email address and the password to be passed into a credential object.\n",
                "    \n",
                "- For simplicity, a domain user is being used for authentication. The domain user must possess Power BI Administrator permissions to execute some of the scripts in this notebook (i.e., the the admin cmdlets & APIs which rely on accessing organization-wide metadata for the entire tenant). For automated / scheduled processes, a better practice is to use an Azure AD application (service principal) -- this became supported for the admin cmdlets & APIs as of Dec 2020.\n",
                "    \n",
                "- The Power BI Management Module is used for all authentication throughout all scripts in this notebook (including when APIs are being called because they're being called by the Management Module)..\n",
                "    \n",
                "- All scripts below this point in the notebook require authentication. After signing in, the token acquired is active for one hour."
            ],
            "metadata": {
                "azdata_cell_guid": "398bcc30-159e-4541-8e6c-7cfe405c875a"
            }
        },
        {
            "cell_type": "code",
            "source": [
                "#Prompt for account name:\r\n",
                "[string]$DomainUserEmailAddr = Read-Host -Prompt \"Input domain user email address\"\r\n",
                "\r\n",
                "#Prompt for account password: \r\n",
                "[securestring]$DomainUserPW = Read-Host -Prompt \"Input password for $DomainUserEmailAddr\" -AsSecureString\r\n",
                "\r\n",
                "#Create temporary credential object: \r\n",
                "[pscredential]$CredentialObj = New-Object System.Management.Automation.PSCredential($DomainUserEmailAddr, $DomainUserPW)  \r\n",
                "\r\n",
                "#Log into Power BI Service with credential:\r\n",
                "Connect-PowerBIServiceAccount -Credential $CredentialObj"
            ],
            "metadata": {
                "azdata_cell_guid": "34d98b29-eb6d-4458-9235-e9f75323e90a"
            },
            "outputs": [],
            "execution_count": null
        },
        {
            "cell_type": "markdown",
            "source": [
                "## 1f. View workspace info - based on user scope\n",
                "\n",
                "- The first script returns the first 2 workspaces it finds, using permissions levels of the signed-in user. If -All is not specified, by default it returns the first 100 workspaces.\n",
                "- The second script returns one workspace, using permissions of the signed-in user."
            ],
            "metadata": {
                "azdata_cell_guid": "732da842-811f-44a9-93d0-440d63824d74"
            }
        },
        {
            "cell_type": "code",
            "source": [
                "Get-PowerBIWorkspace -First 2"
            ],
            "metadata": {
                "azdata_cell_guid": "f30f7707-6bd7-425e-9982-e2e631c87192",
                "tags": []
            },
            "outputs": [],
            "execution_count": null
        },
        {
            "cell_type": "code",
            "source": [
                "Get-PowerBIWorkspace -Name 'Sales Analytics'"
            ],
            "metadata": {
                "azdata_cell_guid": "23a181f5-8ada-4f0b-80b1-eb0e713278b8",
                "tags": []
            },
            "outputs": [],
            "execution_count": null
        },
        {
            "cell_type": "markdown",
            "source": [
                "## 1g. View workspace info - based on organization (admin) scope\n",
                "\n",
                "- The first script returns one workspace. It requires Power BI admin permissions due to the organization scope (thus this metadata can be returned whether or not the administrator possesses workspace permissions).\n",
                "- The second script returns all active workspaces for the organization & reformats certain columns for display. It also requires Power BI admin permissions due to the organization scope."
            ],
            "metadata": {
                "azdata_cell_guid": "e39993bf-b894-4770-92a1-2a98fd375fa1"
            }
        },
        {
            "cell_type": "code",
            "source": [
                "Get-PowerBIWorkspace -Scope Organization -Name 'Sales Analytics'"
            ],
            "metadata": {
                "azdata_cell_guid": "77dbaa76-0f5b-411b-9b74-adc882f82c1e",
                "tags": []
            },
            "outputs": [],
            "execution_count": null
        },
        {
            "cell_type": "code",
            "source": [
                "Get-PowerBIWorkspace -Scope Organization | Where-Object State -eq 'Active' | Format-Table Name, Type, IsOnDedicatedCapacity "
            ],
            "metadata": {
                "azdata_cell_guid": "c75e0763-a2af-405e-b964-8c8aebfed512",
                "tags": []
            },
            "outputs": [],
            "execution_count": null
        },
        {
            "cell_type": "markdown",
            "source": [
                "## 1h. View workspace artifact info\n",
                "\n",
                "- The first script returns a list of all dashboards in the tenant. Note that the results do not indicate which workspace the object resides in.\n",
                "- The second script returns a list of dashboards for a workspace. In this example, the parent workspace info is available in addition to the dashboards info. The results are displayed as a JSON object.\n",
                "- The third script incorporates the -Include All parameter to retrieve all objects (reports, dashboards, workbooks, dataflows, and datasets) for one workspace."
            ],
            "metadata": {
                "azdata_cell_guid": "81834746-1c44-41dd-b68e-064da7a3753a"
            }
        },
        {
            "cell_type": "code",
            "source": [
                "Get-PowerBIDashboard -Scope Organization | Sort-Object Name "
            ],
            "metadata": {
                "azdata_cell_guid": "63d03e89-28db-40b6-831c-b7add307e8d7"
            },
            "outputs": [],
            "execution_count": null
        },
        {
            "cell_type": "code",
            "source": [
                "Get-PowerBIWorkspace -Scope Organization -Name 'Sales Analytics' -Include Dashboards | ConvertTo-JSON -Depth 10 "
            ],
            "metadata": {
                "azdata_cell_guid": "00d32d8f-c746-4b05-8622-10a3797160d7"
            },
            "outputs": [],
            "execution_count": null
        },
        {
            "cell_type": "code",
            "source": [
                "Get-PowerBIWorkspace -Scope Organization -Name 'Sales Analytics' -Include All | ConvertTo-JSON -Depth 10 "
            ],
            "metadata": {
                "azdata_cell_guid": "521c1589-b8b5-4e60-974e-8a6db137f77b"
            },
            "outputs": [],
            "execution_count": null
        },
        {
            "cell_type": "markdown",
            "source": [
                "## 1i. Export workspace inventory\n",
                "\n",
                "- This script extracts all objects for all workspace, and exports them to one JSON file, which is considered a snapshot at that point in time.\n",
                "- This approach is useful for larger tenant which have a lot of data, as it minimizes the # of API calls to be made. The limit is 200 API calls per hour.\n",
                "- This technique is useful when you want to store a snapshot of workspace inventory on a regular basis, and/or your want to see changes over time with point-in-time snapshots. \n",
                "- The JSON format is used because, over time, new data elements will be introduced and a flexible schema is necessary to accomodate that."
            ],
            "metadata": {
                "azdata_cell_guid": "be4bd188-9ae4-4026-add2-04bc998918ab"
            }
        },
        {
            "cell_type": "code",
            "source": [
                "[string]$ExportFileLocation = 'C:\\Demos\\Demo-Output'\r\n",
                "[string]$DateTimeFileWrittenUTCLabel = ([datetime]::Now.ToUniversalTime()).ToString(\"yyyyMMddHHmm\")  #Snapshot date when data was extracted\r\n",
                "[string]$ExportFileName = 'AllWorkspaceObjects-FromCmdlet-' + $DateTimeFileWrittenUTCLabel + '.json' #FromCmdlet in the name since the next example does the same thing using the API directly\r\n",
                "\r\n",
                "Get-PowerBIWorkspace -Scope Organization -Include All | ConvertTo-JSON -Depth 10 | Out-File \"$ExportFileLocation\\$ExportFileName\"\r\n",
                "\r\n",
                "Write-Verbose \"File written: $ExportFileName\" -Verbose "
            ],
            "metadata": {
                "azdata_cell_guid": "bf7a0608-62f5-4860-8346-fb84223d8782",
                "tags": []
            },
            "outputs": [],
            "execution_count": null
        },
        {
            "cell_type": "markdown",
            "source": [
                "## **Demo Series #2: Power BI REST APIs**"
            ],
            "metadata": {
                "azdata_cell_guid": "7a34df41-fac8-4e50-8de1-04d74ea0991d"
            }
        },
        {
            "cell_type": "markdown",
            "source": [
                "## 2a. View workspace artifact info for one workspace\n",
                "\n",
                "- This script calls the admin groups API.\n",
                "- It uses the $expand parameter to retrieve metadata about all types of artifacts for the workspace. \n",
                "- It includes a filter parameter on workspace name."
            ],
            "metadata": {
                "azdata_cell_guid": "c541c71c-1c85-466a-acd5-21ac44f535ce"
            }
        },
        {
            "cell_type": "code",
            "source": [
                "[int32]$NbrOfRecordsToFetchPerBatch = 1000 \r\n",
                "[int32]$NbrOfRecordsToSkip = 0 \r\n",
                "[string]$WorkspaceName = '''Sales Data'''\r\n",
                "\r\n",
                "[string]$URL = \"https://api.powerbi.com/v1.0/myorg/admin/Groups?%24top=$NbrOfRecordsToFetchPerBatch&%24skip=$NbrOfRecordsToSkip&%24expand=datasets,dataflows,reports,dashboards,workbooks,users&%24filter=name eq $WorkspaceName\"\r\n",
                "\r\n",
                "Invoke-PowerBIRestMethod -Url $URL -Method GET"
            ],
            "metadata": {
                "azdata_cell_guid": "7f4ae86d-158c-477b-9237-1d1177f968b3"
            },
            "outputs": [],
            "execution_count": null
        },
        {
            "cell_type": "markdown",
            "source": [
                "## 2b. Export workspace inventory - using REST API\n",
                "\n",
                "- This script accomplishes the same thing as the earlier 'Export workspace inventory' script; this one just uses the REST API instead.\n",
                "- It calls the Power BI Groups REST API via the 'Invoke-PowerBIRestMethod' cmdlet from the Power BI Management Module. Therefore, the Power BI Management Module is still acting like a 'wrapper' around the API call.\n",
                "- This technique allows us to use authentication with the Power BI Management Module, which is simpler than OAuth authentication.\n",
                "- The $expand parameter specifies which objects are included.\n",
                "- The %24 shown in the URL is because the $ sign is used by PowerShell for variables & parameters. For this reason, the $ sign is replaced in PowerShell scripts with the %24."
            ],
            "metadata": {
                "azdata_cell_guid": "4b4a48a4-3afb-4add-a71c-fb213cec070e"
            }
        },
        {
            "cell_type": "code",
            "source": [
                "[int32]$NbrOfRecordsToFetchPerBatch = 1000 \r\n",
                "[int32]$NbrOfRecordsToSkip = 0 \r\n",
                "\r\n",
                "[string]$ExportFileLocation = 'C:\\Demos\\Demo-Output'\r\n",
                "[string]$DateTimeFileWrittenUTCLabel = ([datetime]::Now.ToUniversalTime()).ToString(\"yyyyMMddHHmm\")  #Snapshot date when data was extracted\r\n",
                "[string]$ExportFileName = 'AllWorkspaceObjects-FromAPI-' + $DateTimeFileWrittenUTCLabel + '.json' #FromAPI in the name since the previous example did the same thing using the cmdlet\r\n",
                "\r\n",
                "[string]$URL = \"https://api.powerbi.com/v1.0/myorg/admin/Groups?%24top=$NbrOfRecordsToFetchPerBatch&%24skip=$NbrOfRecordsToSkip&%24expand=datasets,dataflows,reports,dashboards,workbooks,users\"\r\n",
                "\r\n",
                "Invoke-PowerBIRestMethod -Url $URL -Method GET | Out-File \"$ExportFileLocation\\$ExportFileName\"\r\n",
                "\r\n",
                "Write-Verbose \"File written: $ExportFileName\" -Verbose "
            ],
            "metadata": {
                "azdata_cell_guid": "fccdde65-871b-417b-ba1f-724994365959",
                "tags": []
            },
            "outputs": [],
            "execution_count": null
        },
        {
            "cell_type": "markdown",
            "source": [
                "## 2c. View apps info\n",
                "\n",
                "- This script returns apps published for the entire tenant.\n",
                "- It converts the JSON results into a PowerShell object for viewing."
            ],
            "metadata": {
                "azdata_cell_guid": "1ac3e6f6-d7d2-4679-b6fe-b97ca9f627fb"
            }
        },
        {
            "cell_type": "code",
            "source": [
                "$URL = \"https://api.powerbi.com/v1.0/myorg/apps\"\r\n",
                "$AppsInfo = Invoke-PowerBIRestMethod -Url $URL -Method GET\r\n",
                "$AppsObject = $AppsInfo | ConvertFrom-Json\r\n",
                "$AppsObject.value "
            ],
            "metadata": {
                "azdata_cell_guid": "79c48bb5-76be-4b02-b2b1-57e0b8acc886"
            },
            "outputs": [],
            "execution_count": null
        },
        {
            "cell_type": "markdown",
            "source": [
                "## 2d. View dataset and report info for PBIX files in a workspace\n",
                "\n",
                "- This script displays the dataset and report metadata for each imported PBIX file in a workspace, such as when the PBIX file was last updated. (The file update date is separate from when it was refreshed--see the next example below for getting refresh date.)\n",
                "- Step 1 gets the workspace ID based on the name entered in the variable. The API requires single quotes to be sent around the workspace name, which is why the $WorkspaceName variable is constructed the way it is. This is an admin API which requires administrator permissions.\n",
                "- Step 2 gets the PBIX file info. The imports API does not extend to related objects or lineage beyond a single PBIX."
            ],
            "metadata": {
                "azdata_cell_guid": "5766382c-8888-4b27-88d7-5bbfa597ec67"
            }
        },
        {
            "cell_type": "code",
            "source": [
                "[int32]$NbrOfRecordsToFetchPerBatch = 1000 \r\n",
                "[int32]$NbrOfRecordsToSkip = 0 \r\n",
                "[string]$WorkspaceName = '''Sales Data'''\r\n",
                "\r\n",
                "#Step 1:\r\n",
                "[string]$URL = \"https://api.powerbi.com/v1.0/myorg/admin/Groups?%24top=$NbrOfRecordsToFetchPerBatch&%24skip=$NbrOfRecordsToSkip&%24filter=name eq $WorkspaceName\"\r\n",
                "$Workspace = Invoke-PowerBIRestMethod -Url $URL -Method GET\r\n",
                "$WorkspaceObject = $Workspace | ConvertFrom-Json \r\n",
                "$WorkspaceID = $WorkspaceObject.value.id \r\n",
                "\r\n",
                "#Step 2:\r\n",
                "$ImportFileURL = \"https://api.powerbi.com/v1.0/myorg/groups/$WorkspaceID/imports\"\r\n",
                "$ImportInfo = Invoke-PowerBIRestMethod -Url $ImportFileURL -Method GET\r\n",
                "$ImportObject = $ImportInfo | ConvertFrom-Json\r\n",
                "$ImportObject.value "
            ],
            "metadata": {
                "azdata_cell_guid": "2de13c17-61bc-415b-84d8-b3752c5a80dc",
                "tags": []
            },
            "outputs": [],
            "execution_count": null
        },
        {
            "cell_type": "markdown",
            "source": [
                "## 2e. View dataset last refresh date\n",
                "\n",
                "- This script displays the last refresh date for a dataset, as well as other information such as how it was refreshed and the status.\n",
                "- Step 1 gets the workspace info because the ID will be needed in step 2.\n",
                "- Step 2 gets the datasets in the workspace which was specified. Each time the loop runs, the results are added to an array which is referenced in step 3.\n",
                "- Step 3 calls the refresh history API to retrieve the latest (top 1) refresh for each dataset in the workspace which was specified. It is converted from JSON into a PowerShell object for easier viewing in the console. Additional properties for the DatasetID and DatasetName are added to the resultset to help identify the lineage of the refresh information. Also shown is aliasing the ID column so its meaning is more clear. \n",
                "\n",
                "This technique is shown to be able to illustrate the logic. However, it does issue quite a few API calls in the looping structure. In large environments with a lot of artifacts, a different technique should be used (such as the workspace with the $expand property shown earlier)."
            ],
            "metadata": {
                "azdata_cell_guid": "e0e74f38-f8f7-44be-b60b-d7696248bdd3"
            }
        },
        {
            "cell_type": "code",
            "source": [
                "$WorkspaceName = 'Sales Data'\r\n",
                "$NbrOfRefreshes = 1 \r\n",
                "\r\n",
                "#Step 1:\r\n",
                "$Workspaces = Get-PowerBIWorkspace -Scope Organization -Name $WorkspaceName | Select-Object Id \r\n",
                "\r\n",
                "#Step 2:\r\n",
                "$Datasets = @()\r\n",
                "    foreach ($Workspace in $Workspaces)  \r\n",
                "    {\r\n",
                "        $Dataset = Get-PowerBIDataset -Scope Organization -WorkspaceId $Workspace.Id | Select-Object Id, Name\r\n",
                "        $Datasets += $Dataset\r\n",
                "    }\r\n",
                "\r\n",
                "#Step 3:\r\n",
                "foreach ($Dataset in $Datasets)\r\n",
                "    { \r\n",
                "        $DatasetID = $Dataset.Id\r\n",
                "        $URL = \"https://api.powerbi.com/v1.0/myorg/datasets/$DatasetID/refreshes?%24top=$NbrOfRefreshes\"\r\n",
                "        $RefreshInfo = Invoke-PowerBIRestMethod -Url $URL -Method GET\r\n",
                "        $RefreshObject = $RefreshInfo | ConvertFrom-Json \r\n",
                "        $DatasetRefreshInfo = $RefreshObject.value\r\n",
                "        $DatasetRefreshInfo | Add-Member -MemberType 'NoteProperty' -Name 'DatasetID' -Value $Dataset.Id -Force \r\n",
                "        $DatasetRefreshInfo | Add-Member -MemberType 'NoteProperty' -Name 'DatasetName' -Value $Dataset.Name -Force \r\n",
                "        $DatasetRefreshInfo | Add-Member -MemberType 'AliasProperty' -Name 'RefreshID'  -Value id\r\n",
                "        $DatasetRefreshInfo \r\n",
                "    }"
            ],
            "metadata": {
                "azdata_cell_guid": "c8cc60ee-ad1b-4a86-bb13-46b39fa78d9c",
                "tags": []
            },
            "outputs": [],
            "execution_count": null
        },
        {
            "cell_type": "markdown",
            "source": [
                "## **Demo Series #3: Power BI Activity Events**"
            ],
            "metadata": {
                "azdata_cell_guid": "7fcbc167-ab8a-47c4-8cb2-bb06d8472e66"
            }
        },
        {
            "cell_type": "markdown",
            "source": [
                "## 3a. View one type of activity events for one day\n",
                "\n",
                "View data using cmdlet from the Power BI Management Module: Get-PowerBIActivityEvent.\n",
                "\n",
                "- This script displays the \"ShareReport\" events, for one day. \n",
                "- It interactively prompts for the date. Data up to 30 days in the past may be retrieved.\n",
                "- All activity events are based on UTC datetime."
            ],
            "metadata": {
                "azdata_cell_guid": "13ee5967-a1ea-47ed-ad68-caec811e6c77"
            }
        },
        {
            "cell_type": "code",
            "source": [
                "[string]$DateToExtractLabel = Read-Host -Prompt \"Input date to extract in yyyy-mm-dd format\" #Maximum supported is 30 days back\r\n",
                "\r\n",
                "Get-PowerBIActivityEvent -StartDateTime ($DateToExtractLabel+'T00:00:00.000') -EndDateTime ($DateToExtractLabel+'T23:59:59.999') -ActivityType 'ShareReport'"
            ],
            "metadata": {
                "azdata_cell_guid": "000f39c1-ac79-45a4-9af4-3f04a5aa6d5f"
            },
            "outputs": [],
            "execution_count": null
        },
        {
            "cell_type": "markdown",
            "source": [
                "## 3b. Export activity events for a range of days\n",
                "\n",
                "- This script exports raw data for all Power BI events.\n",
                "- It exports one JSON file per day (based on UTC time), which is useful when you want to store raw data over time. \n",
                "- The range of time is specified with the first variable. It counts backwards from yesterday to determine how many days it should loop through.\n",
                "- A maximum of one day is allowed to be extracted at once, which is why a loop is introduced per day. \n",
                "- The JSON format is used because, over time, new data elements will be introduced and a flexible schema is necessary to accomodate that. It is a best practice to store the raw data as-is, in an immutable location when possible, so it can be used for auditing when necessary."
            ],
            "metadata": {
                "azdata_cell_guid": "88781de9-fdab-4524-82b4-ffa82597ceab"
            }
        },
        {
            "cell_type": "code",
            "source": [
                "[int32]$NbrDaysDaysToExtract = 7  #Maximum is 30 days back\r\n",
                "[string]$ExportFileLocation = 'C:\\Demos\\Demo-Output'\r\n",
                "\r\n",
                "[datetime]$YesterdayUTC = (([datetime]::Today.ToUniversalTime()).Date).AddDays(-1) #Begin with yesterday, rather than today, to ensure full day results are obtained\r\n",
                "[string]$DateTimeFileWrittenUTCLabel = ([datetime]::Now.ToUniversalTime()).ToString(\"yyyyMMddHHmm\")\r\n",
                "\r\n",
                "#Loop through each of the days to be extracted (<Initilize> ; <Condition> ; <Repeat>):\r\n",
                "for($Loop=0 ; $Loop -lt $NbrDaysDaysToExtract ; $Loop++)\r\n",
                "{\r\n",
                "    [datetime]$DateToExtractUTC=$YesterdayUTC.AddDays(-$Loop).ToString(\"yyyy-MM-dd\")\r\n",
                "\r\n",
                "    [string]$DateToExtractLabel=$DateToExtractUTC.ToString(\"yyyy-MM-dd\")\r\n",
                "    \r\n",
                "    [string]$ExportFileName = 'AllActivityEvents-' + ($DateToExtractLabel -replace '-', '') + '-' + $DateTimeFileWrittenUTCLabel + '.json' \r\n",
                "\r\n",
                "    [psobject]$Events=Get-PowerBIActivityEvent -StartDateTime ($DateToExtractLabel+'T00:00:00.000') -EndDateTime ($DateToExtractLabel+'T23:59:59.999')\r\n",
                "  \r\n",
                "    $Events | Out-File \"$ExportFileLocation\\$ExportFileName\"\r\n",
                "\r\n",
                "    Write-Verbose \"File written: $ExportFileName\" -Verbose \r\n",
                "}"
            ],
            "metadata": {
                "azdata_cell_guid": "3970c288-b201-4268-a87b-70d32f4641b8",
                "tags": []
            },
            "outputs": [],
            "execution_count": null
        },
        {
            "cell_type": "markdown",
            "source": [
                "## **Demo Series #4: Data Gateway Module**"
            ],
            "metadata": {
                "azdata_cell_guid": "76b0cb1b-aecf-4a82-b27d-de22da7dd484"
            }
        },
        {
            "cell_type": "markdown",
            "source": [
                "## 4a. Check Data Gateway module version(s)\n",
                "\n",
                "- This script checks which version(s) of the Data Gateway Module are installed. Unlike the Power BI Management Module, the Data Gateway Module requires PowerShell Core (7.0+)."
            ],
            "metadata": {
                "azdata_cell_guid": "4190c47a-4ba9-486b-aad1-ba3fdeb103f5"
            }
        },
        {
            "cell_type": "code",
            "source": [
                "Get-Module DataGateway* -ListAvailable | Sort-Object Version, Name "
            ],
            "metadata": {
                "azdata_cell_guid": "83e67c3a-f244-4ed3-aff1-1053f017600f"
            },
            "outputs": [],
            "execution_count": null
        },
        {
            "cell_type": "markdown",
            "source": [
                "## 4b. Check Data Gateway module commands\n",
                "\n",
                "- The first script lists all cmdlets & aliases, for all versions.\n",
                "- The second script retrieves just the Profile module commands. Similar to the Power BI Mgmt Module, there are several aliases for Connect-DataGatewayServiceAccount."
            ],
            "metadata": {
                "azdata_cell_guid": "3a5d6e91-9063-49a6-ab88-9d6a432625b0"
            }
        },
        {
            "cell_type": "code",
            "source": [
                "Get-Command -Module DataGateway*"
            ],
            "metadata": {
                "azdata_cell_guid": "a247ca3e-281f-4b44-a258-8c1b593a387a"
            },
            "outputs": [],
            "execution_count": null
        },
        {
            "cell_type": "code",
            "source": [
                "Get-Command -Module DataGateway* | Where-Object {$PSItem.Source -eq \"DataGateway.Profile\"} | Sort-Object Source, Name"
            ],
            "metadata": {
                "azdata_cell_guid": "fbffce5a-cad0-4187-a48c-60cbfa032ddc"
            },
            "outputs": [],
            "execution_count": null
        },
        {
            "cell_type": "markdown",
            "source": [
                "## <mark>4c. Authenticate to the Data Gateway service</mark>\n",
                "\n",
                "- Note this is a \\*\\*separate\\*\\* login cmdlet from the Power BI Management Module. \n",
                "- This interactive login will complete in your default web browser."
            ],
            "metadata": {
                "azdata_cell_guid": "b307f4c2-30e2-465b-98fd-388089a3a7ac"
            }
        },
        {
            "cell_type": "code",
            "source": [
                "Connect-DataGatewayServiceAccount  "
            ],
            "metadata": {
                "azdata_cell_guid": "ba2e3e78-5add-47c4-a207-d329eaf19546"
            },
            "outputs": [],
            "execution_count": null
        },
        {
            "cell_type": "markdown",
            "source": [
                "## 4d. View gateway cluster info\n",
                "\n",
                "- This script uses the data gateway module to view metadata about each gateway cluster."
            ],
            "metadata": {
                "azdata_cell_guid": "21012092-f63a-48a9-9747-20980c088645"
            }
        },
        {
            "cell_type": "code",
            "source": [
                "Get-DataGatewayCluster -Scope Organization"
            ],
            "metadata": {
                "azdata_cell_guid": "d83eb208-619f-4f77-994e-d648030a2913"
            },
            "outputs": [],
            "execution_count": null
        },
        {
            "cell_type": "markdown",
            "source": [
                "## 4e. View gateway data source info\n",
                "\n",
                "- This script displays each data source registered to the gateway cluster, including the type. Server name and database name are included in the connection details."
            ],
            "metadata": {
                "azdata_cell_guid": "5ddd1c6c-e517-43cf-a065-88a6f662e100"
            }
        },
        {
            "cell_type": "code",
            "source": [
                "$GWClusters = Get-DataGatewayCluster -Scope Organization\r\n",
                "\r\n",
                "foreach ($GWCluster in $GWClusters)  \r\n",
                "{\r\n",
                "    Get-DataGatewayClusterDatasource -GatewayClusterId $GWCluster.Id\r\n",
                "}"
            ],
            "metadata": {
                "azdata_cell_guid": "9a4e1761-c91a-422f-b395-bb70253774b8"
            },
            "outputs": [],
            "execution_count": null
        },
        {
            "cell_type": "markdown",
            "source": [
                "## 4f. View data source users for each gateway data source\n",
                "\n",
                "- This script displays the users which have been added to each data source.\n",
                "- Step 1 gets the gateway cluster info. It passes the cluster ID to step 2.\n",
                "- Step 2 retrieves each data source for the cluster. It passes the ID, name, and cluster ID to step 3.\n",
                "- Step 3 retrieves each user assigned to the data source. Additional properties (Cluster ID, Data Source Name, and Data Source ID) are added to the resultset to help identify the lineage of the user information."
            ],
            "metadata": {
                "azdata_cell_guid": "996c0755-82ff-4cd0-866b-4bde44ff84f6"
            }
        },
        {
            "cell_type": "code",
            "source": [
                "#Step 1:\r\n",
                "$GWClusters = Get-DataGatewayCluster -Scope Organization\r\n",
                "\r\n",
                "#Step 2:\r\n",
                "$GWClusterSources = @()\r\n",
                "foreach ($GWCluster in $GWClusters)  \r\n",
                "{\r\n",
                "    $GWClusterSource = Get-DataGatewayClusterDatasource -GatewayClusterId $GWCluster.Id | Select-Object Id, DatasourceName, ClusterId\r\n",
                "    $GWClusterSources += $GWClusterSource\r\n",
                "}\r\n",
                "\r\n",
                "#Step 3:\r\n",
                "foreach ($GWClusterSource in $GWClusterSources)\r\n",
                "{ \r\n",
                "    $Users = Get-DataGatewayClusterDatasourceUser -GatewayClusterId $GWClusterSource.ClusterId -GatewayClusterDatasourceId $GWClusterSource.Id\r\n",
                "    $Users | Add-Member -MemberType 'NoteProperty' -Name 'ClusterID' -Value $GWClusterSource.ClusterId -Force \r\n",
                "    $Users | Add-Member -MemberType 'NoteProperty' -Name 'DataSourceName' -Value $GWClusterSource.DatasourceName -Force\r\n",
                "    $Users | Add-Member -MemberType 'NoteProperty' -Name 'DataSourceID' -Value $GWClusterSource.Id -Force\r\n",
                "    $Users \r\n",
                "}"
            ],
            "metadata": {
                "azdata_cell_guid": "d4923b2b-8b73-4cdf-9972-805a48026a1e"
            },
            "outputs": [],
            "execution_count": null
        },
        {
            "cell_type": "markdown",
            "source": [
                "## 4g. Disconnect from the Power BI service & Data Gateway service\n",
                "\n",
                "These cmdlets are useful to place at the end of automation scripts, as a matter of good housekeeping."
            ],
            "metadata": {
                "azdata_cell_guid": "5de9e3f5-5e25-44d1-b7c5-ca8e4f524d5f"
            }
        },
        {
            "cell_type": "code",
            "source": [
                "Disconnect-PowerBIServiceAccount"
            ],
            "metadata": {
                "azdata_cell_guid": "63cb9f40-f3f9-44bc-a2b1-67e031759b66"
            },
            "outputs": [],
            "execution_count": null
        },
        {
            "cell_type": "code",
            "source": [
                "Disconnect-DataGatewayServiceAccount"
            ],
            "metadata": {
                "azdata_cell_guid": "6a800229-5412-457b-931a-100ec13d08f7"
            },
            "outputs": [],
            "execution_count": null
        }
    ]
}